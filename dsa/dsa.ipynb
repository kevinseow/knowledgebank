{
 "cells": [
  {
   "cell_type": "markdown",
   "metadata": {},
   "source": [
    "# Big O Notation\n",
    "\n",
    "[insert Big O graphic here]"
   ]
  },
  {
   "cell_type": "markdown",
   "metadata": {},
   "source": [
    "### Pointers"
   ]
  },
  {
   "cell_type": "code",
   "execution_count": 10,
   "metadata": {},
   "outputs": [
    {
     "name": "stdout",
     "output_type": "stream",
     "text": [
      "num1 value: 11\n",
      "num2 value: 11\n",
      " num1 points to: 140708447920192\n",
      " num2 points to: 140708447920192\n",
      "num2 updated...\n",
      "num1 value: 22\n",
      "num2 value: 11\n",
      " num1 points to: 140708447920544\n",
      " num2 points to: 140708447920192\n"
     ]
    }
   ],
   "source": [
    "# Integers are immutable\n",
    "\n",
    "num1 = 11\n",
    "num2 = num1\n",
    "print(\"num1 value:\", num1)\n",
    "print(\"num2 value:\", num2)\n",
    "print(\" num1 points to:\", id(num1))\n",
    "print(\" num2 points to:\", id(num2))\n",
    "\n",
    "num1 = 22\n",
    "\n",
    "print(\"num2 updated...\")\n",
    "print(\"num1 value:\", num1)\n",
    "print(\"num2 value:\", num2)\n",
    "print(\" num1 points to:\", id(num1))\n",
    "print(\" num2 points to:\", id(num2))\n",
    "\n"
   ]
  },
  {
   "cell_type": "code",
   "execution_count": 2,
   "metadata": {},
   "outputs": [
    {
     "name": "stdout",
     "output_type": "stream",
     "text": [
      "dict1 value: {'value': 11}\n",
      "dict2 value: {'value': 11}\n",
      "dict1 points to: 2801582689024\n",
      "dict2 points to: 2801582689024\n",
      "dict2 updated...\n",
      "dict1 value: {'value': 22}\n",
      "dict2 value: {'value': 22}\n",
      "dict1 points to: 2801582689024\n",
      "dict2 points to: 2801582689024\n",
      "create dict3\n",
      "dict2 updated to point to dict3...\n",
      "dict1 value: {'value': 22}\n",
      "dict2 value: {'value': 33}\n",
      "dict3 value: {'value': 33}\n",
      "dict1 points to: 2801582689024\n",
      "dict2 points to: 2801582689088\n",
      "dict3 points to: 2801582689088\n",
      "dict1 updated to point to dict2, which in turn points to dict3...\n",
      "dict1 value: {'value': 33}\n",
      "dict2 value: {'value': 33}\n",
      "dict3 value: {'value': 33}\n",
      "dict1 points to: 2801582689088\n",
      "dict2 points to: 2801582689088\n",
      "dict3 points to: 2801582689088\n"
     ]
    }
   ],
   "source": [
    "# dicts are mutable\n",
    "dict1 = {'value':11}\n",
    "dict2 = dict1\n",
    "\n",
    "print(\"dict1 value:\", dict1)\n",
    "print(\"dict2 value:\", dict2)\n",
    "print(\"dict1 points to:\", id(dict1))\n",
    "print(\"dict2 points to:\", id(dict2))\n",
    "\n",
    "\n",
    "dict2['value'] = 22\n",
    "\n",
    "print(\"dict2 updated...\")\n",
    "print(\"dict1 value:\", dict1)\n",
    "print(\"dict2 value:\", dict2)\n",
    "print(\"dict1 points to:\", id(dict1))\n",
    "print(\"dict2 points to:\", id(dict2))\n",
    "\n",
    "print('create dict3')\n",
    "dict3 = {'value': 33}\n",
    "\n",
    "# change the pointer, such that dict2 now refers to dict 3\n",
    "dict2 = dict3\n",
    "print(\"dict2 updated to point to dict3...\")\n",
    "print(\"dict1 value:\", dict1)\n",
    "print(\"dict2 value:\", dict2)\n",
    "print(\"dict3 value:\", dict3)\n",
    "print(\"dict1 points to:\", id(dict1))\n",
    "print(\"dict2 points to:\", id(dict2))\n",
    "print(\"dict3 points to:\", id(dict3))\n",
    "\n",
    "# make dict1 also point to dict3. Then Python does Garbage Collection - the 'value':11 dict is lost\n",
    "\n",
    "dict1 = dict2\n",
    "print(\"dict1 updated to point to dict2, which in turn points to dict3...\")\n",
    "print(\"dict1 value:\", dict1)\n",
    "print(\"dict2 value:\", dict2)\n",
    "print(\"dict3 value:\", dict3)\n",
    "print(\"dict1 points to:\", id(dict1))\n",
    "print(\"dict2 points to:\", id(dict2))\n",
    "print(\"dict3 points to:\", id(dict3))\n"
   ]
  },
  {
   "cell_type": "markdown",
   "metadata": {},
   "source": [
    "### LinkedList\n",
    "\n",
    "- does not have indexes per se (unlike lists)\n",
    "- are not contiguous (i.e. next to each other) in memory (unlike lists). the nodes are spread all over in memory\n",
    "- has variable 'head' that points to first node in list, 'tail' that points to last node\n",
    "- each node of LinkedList consists of (i) its value and (ii) a pointer that points to the next node. so can always find the next node in the list. last node points to None. Conceptually, you can think of LinkedList as a dictionary with \"value\" and \"next_node\" entries.\n",
    "\n",
    "##### Big O\n",
    "- O(1) to append item at end.\n",
    "- O(n) to remove item at end. Because we need to find pointer to the last item (by starting from the first item, traversing to the last) and change its pointer to None.\n",
    "- O(1) to append item at start.\n",
    "- O(1) to remove item at start.\n",
    "- O(n) to insert item in the middle.\n",
    "- O(n) to remove item in the middle.\n",
    "- O(n) to look up item i.e. by value.\n",
    "- O(n) to go to an index of LinkedList.\n",
    "\n",
    "\n"
   ]
  },
  {
   "cell_type": "code",
   "execution_count": 348,
   "metadata": {},
   "outputs": [],
   "source": [
    "# constructor of LinkedList\n",
    "class Node:\n",
    "    def __init__(self, value):\n",
    "        self.value = value\n",
    "        self.next = None\n",
    "        \n",
    "class LinkedList:\n",
    "    def __init__(self, value):\n",
    "        new_node = Node(value)\n",
    "        self.head = new_node\n",
    "        self.tail = new_node\n",
    "        self.length = 1\n",
    "    \n",
    "    def print_list(self):\n",
    "        temp = self.head\n",
    "        while temp is not None:\n",
    "            print(temp.value)\n",
    "            # print('id(temp)', id(temp))\n",
    "            temp = temp.next\n",
    "    \n",
    "    def append(self, value):\n",
    "        new_node = Node(value)\n",
    "        if self.head is None:  # this part used for case where LinkedList is empty, which shouldn't happen actually.\n",
    "            self.head = new_node\n",
    "            self.tail = new_node    \n",
    "        else:\n",
    "            self.tail.next = new_node\n",
    "            # print('id(self.tail):', id(self.tail))\n",
    "            self.tail = new_node\n",
    "            # print('id(self.tail) after reassignment:', id(self.tail))\n",
    "        self.length +=1\n",
    "        return True # this line is needed for a future additional function.\n",
    "\n",
    "    # my own implementation of pop (this should be correct)\n",
    "    def pop_kev(self): \n",
    "        if self.length == 1:\n",
    "            popped = self.head\n",
    "            self.head = None\n",
    "            self.tail = None\n",
    "            self.length -= 1\n",
    "            return popped.value\n",
    "        elif self.length == 2:\n",
    "            popped = self.tail\n",
    "            self.tail = self.head\n",
    "            self.head.next = None\n",
    "            self.length -=1\n",
    "            return popped.value\n",
    "        elif self.length >= 3:\n",
    "            temp = self.head\n",
    "            while temp is not None:\n",
    "                holder = temp.next\n",
    "                if holder.next is None:\n",
    "                    popped = holder\n",
    "                    temp.next = None\n",
    "                    self.tail = temp\n",
    "                    self.length -=1\n",
    "                    return popped.value\n",
    "                \n",
    "                else:\n",
    "                    temp = temp.next\n",
    "\n",
    "    # my 2nd iteration of pop, after watching the video (should be right too)\n",
    "    def pop_kev2(self):\n",
    "        if self.length == 0:\n",
    "            return None\n",
    "        elif self.length == 1:\n",
    "            popped = self.head\n",
    "            self.head = None\n",
    "            self.tail = None\n",
    "            self.length -= 1\n",
    "            return popped.value\n",
    "        else:\n",
    "            temp = self.head\n",
    "            pre = self.head\n",
    "            while temp is not None:\n",
    "                if temp.next is not None:\n",
    "                    pre = temp\n",
    "                    temp = temp.next\n",
    "                else:\n",
    "                    self.tail = pre\n",
    "                    self.tail.next = None\n",
    "                    self.length -= 1\n",
    "                    return temp.value\n",
    "\n",
    "    # actual implementation of pop\n",
    "    def pop(self):\n",
    "        if self.length == 0:\n",
    "            return None\n",
    "        else:\n",
    "            temp = self.head\n",
    "            pre = self.head\n",
    "            while temp.next: # or can use while temp.next is not None\n",
    "                pre = temp\n",
    "                temp = temp.next\n",
    "            self.tail = pre\n",
    "            self.tail.next = None\n",
    "            self.length -= 1\n",
    "        if self.length == 0: # for the edge case when LinkedList had 1 node\n",
    "            self.head = None\n",
    "            self.tail = None\n",
    "        return temp\n",
    "\n",
    "    def prepend(self, value):\n",
    "        new_node = Node(value)\n",
    "        if self.length == 0:\n",
    "            self.head = new_node\n",
    "            self.tail = new_node\n",
    "        else:\n",
    "            new_node.next = self.head\n",
    "            self.head = new_node\n",
    "        self.length += 1  \n",
    "        return True # added because we need to use later\n",
    "\n",
    "    def pop_first(self):\n",
    "        if self.length == 0:\n",
    "            return None\n",
    "        temp = self.head\n",
    "        self.head = self.head.next\n",
    "        temp.next = None\n",
    "        self.length-= 1\n",
    "        if self.length == 0: # for edge case where LinkedList had 1 node\n",
    "            self.tail = None\n",
    "\n",
    "        return temp\n",
    "\n",
    "    def get_kev(self, index):\n",
    "        if index < 0 or self.length <= index:\n",
    "            return None\n",
    "        counter = 0\n",
    "        temp = self.head\n",
    "        while temp is not None:\n",
    "            if counter == index:\n",
    "                return temp\n",
    "            temp = temp.next\n",
    "            counter +=1\n",
    "    \n",
    "    def get(self, index):\n",
    "        if index < 0 or self.length <= index:\n",
    "            return None\n",
    "        temp = self.head\n",
    "        for _ in range(index):\n",
    "            temp = temp.next\n",
    "        return temp\n",
    "\n",
    "    def set_value(self, index, value):\n",
    "        temp = self.get(index)\n",
    "        if temp: # or write as `if temp is not None`\n",
    "            temp.value = value\n",
    "            return True\n",
    "        return False\n",
    "    \n",
    "    def insert(self, index, value):\n",
    "        if index < 0 or self.length < index:\n",
    "            return False # when unsuccesful, returns False\n",
    "        elif index == 0:\n",
    "            return self.prepend(value) # will return True as well\n",
    "        elif index == self.length:\n",
    "            return self.append(value) # will return True as well\n",
    "        new_node = Node(value)\n",
    "        temp = self.get(index-1)\n",
    "        new_node.next = temp.next\n",
    "        temp.next = new_node\n",
    "        self.length += 1\n",
    "        return True  # when successful, returns True\n",
    "\n",
    "    def remove(self, index):\n",
    "        if index < 0 or self.length <= index:\n",
    "            return None # when unsuccesful, returns the node\n",
    "        elif index == 0:\n",
    "            return self.pop_first() # will return node too\n",
    "        elif index == self.length - 1:\n",
    "            return self.pop() # will return node too\n",
    "        prev = self.get(index-1)\n",
    "        temp = prev.next\n",
    "        prev.next = temp.next\n",
    "        temp.next = None\n",
    "        self.length -= 1\n",
    "        return temp  # when successful, returns True\n",
    "\n",
    "    def reverse(self):\n",
    "        temp = self.head\n",
    "        self.head = self.tail\n",
    "        self.tail = temp\n",
    "        after = temp.next\n",
    "        before = None\n",
    "        for _ in range(self.length):\n",
    "            after = temp.next\n",
    "            temp.next = before\n",
    "            before = temp\n",
    "            temp = after\n",
    "            \n",
    "\n",
    "    def reverse_kev(self): # this works. my solution is more elegant actually.\n",
    "        pre = self.head\n",
    "        temp = pre.next\n",
    "        self.head = self.tail\n",
    "        self.tail = pre\n",
    "        self.tail.next = None\n",
    "        while temp is not None:\n",
    "            post = temp.next\n",
    "            temp.next = pre\n",
    "            pre = temp\n",
    "            temp = post\n",
    "            \n"
   ]
  },
  {
   "cell_type": "code",
   "execution_count": 349,
   "metadata": {},
   "outputs": [
    {
     "name": "stdout",
     "output_type": "stream",
     "text": [
      "1\n",
      "2\n",
      "3\n",
      "4\n",
      "5\n"
     ]
    }
   ],
   "source": [
    "my_linked_list = LinkedList(1)\n",
    "my_linked_list.append(2)\n",
    "my_linked_list.append(3)\n",
    "my_linked_list.append(4)\n",
    "my_linked_list.append(5)\n",
    "\n",
    "my_linked_list.print_list()"
   ]
  },
  {
   "cell_type": "code",
   "execution_count": 350,
   "metadata": {},
   "outputs": [
    {
     "name": "stdout",
     "output_type": "stream",
     "text": [
      "pop returned <__main__.Node object at 0x0000028C4B9F7130>\n"
     ]
    }
   ],
   "source": [
    "# run this cell 5 times\n",
    "print('pop returned', my_linked_list.pop())"
   ]
  },
  {
   "cell_type": "code",
   "execution_count": 351,
   "metadata": {},
   "outputs": [
    {
     "name": "stdout",
     "output_type": "stream",
     "text": [
      "1\n",
      "2\n",
      "3\n",
      "4\n"
     ]
    }
   ],
   "source": [
    "my_linked_list.print_list()"
   ]
  },
  {
   "cell_type": "code",
   "execution_count": 352,
   "metadata": {},
   "outputs": [
    {
     "name": "stdout",
     "output_type": "stream",
     "text": [
      "0\n",
      "1\n",
      "2\n",
      "3\n",
      "4\n"
     ]
    }
   ],
   "source": [
    "my_linked_list.prepend(0)\n",
    "my_linked_list.print_list()"
   ]
  },
  {
   "cell_type": "code",
   "execution_count": 353,
   "metadata": {},
   "outputs": [
    {
     "name": "stdout",
     "output_type": "stream",
     "text": [
      "1\n",
      "2\n",
      "3\n",
      "4\n"
     ]
    }
   ],
   "source": [
    "my_linked_list.pop_first()\n",
    "my_linked_list.print_list()"
   ]
  },
  {
   "cell_type": "code",
   "execution_count": 354,
   "metadata": {},
   "outputs": [
    {
     "data": {
      "text/plain": [
       "3"
      ]
     },
     "execution_count": 354,
     "metadata": {},
     "output_type": "execute_result"
    }
   ],
   "source": [
    "my_linked_list.get(2).value"
   ]
  },
  {
   "cell_type": "code",
   "execution_count": 355,
   "metadata": {},
   "outputs": [
    {
     "name": "stdout",
     "output_type": "stream",
     "text": [
      "1\n",
      "2\n",
      "1000\n",
      "4\n"
     ]
    }
   ],
   "source": [
    "my_linked_list.set_value(2, 1000)\n",
    "my_linked_list.print_list()"
   ]
  },
  {
   "cell_type": "code",
   "execution_count": 356,
   "metadata": {},
   "outputs": [
    {
     "name": "stdout",
     "output_type": "stream",
     "text": [
      "1\n",
      "2\n",
      "3\n",
      "1000\n",
      "4\n"
     ]
    }
   ],
   "source": [
    "my_linked_list.insert(value=3, index=2)\n",
    "my_linked_list.print_list()"
   ]
  },
  {
   "cell_type": "code",
   "execution_count": 357,
   "metadata": {},
   "outputs": [
    {
     "name": "stdout",
     "output_type": "stream",
     "text": [
      "1\n",
      "2\n",
      "3\n",
      "4\n"
     ]
    }
   ],
   "source": [
    "my_linked_list.remove(3)\n",
    "my_linked_list.print_list()"
   ]
  },
  {
   "cell_type": "code",
   "execution_count": 358,
   "metadata": {},
   "outputs": [
    {
     "name": "stdout",
     "output_type": "stream",
     "text": [
      "4\n",
      "3\n",
      "2\n",
      "1\n"
     ]
    }
   ],
   "source": [
    "my_linked_list.reverse()\n",
    "my_linked_list.print_list()"
   ]
  },
  {
   "cell_type": "markdown",
   "metadata": {},
   "source": [
    "### Doubly Linked List"
   ]
  },
  {
   "cell_type": "code",
   "execution_count": 561,
   "metadata": {},
   "outputs": [],
   "source": [
    "class Node_DLL:\n",
    "    def __init__(self, value):\n",
    "        self.value = value\n",
    "        self.next = None\n",
    "        self.prev = None\n",
    "\n",
    "class DoublyLinkedList:\n",
    "    def __init__(self, value):\n",
    "        new_node = Node_DLL(value)\n",
    "        self.head = new_node\n",
    "        self.tail = new_node\n",
    "        self.length = 1\n",
    "    \n",
    "    def print_list(self):\n",
    "        temp = self.head\n",
    "        while temp is not None:\n",
    "            print(temp.value)\n",
    "            temp = temp.next\n",
    "\n",
    "    def append(self, value):\n",
    "        new_node = Node_DLL(value)\n",
    "        if self.head is None:\n",
    "            self.head = new_node\n",
    "            self.tail = new_node\n",
    "        else:\n",
    "            self.tail.next = new_node\n",
    "            new_node.prev = self.tail\n",
    "            self.tail = new_node\n",
    "        self.length += 1\n",
    "        return True\n",
    "    \n",
    "    def pop(self):\n",
    "        if self.length == 0:\n",
    "            return None\n",
    "        popped = self.tail\n",
    "        if self.length == 1:\n",
    "            self.head = None\n",
    "            self.tail = None\n",
    "        else:\n",
    "            self.tail = popped.prev\n",
    "            self.tail.next = None\n",
    "            popped.prev = None\n",
    "        self.length -=1\n",
    "        return popped\n",
    "\n",
    "    def prepend_kev(self, value): # this works. only slight differences\n",
    "        new_node = Node_DLL(value)\n",
    "        if self.length == 0:\n",
    "            self.head = new_node\n",
    "            self.tail = new_node\n",
    "        else:\n",
    "            temp = self.head\n",
    "            self.head = new_node\n",
    "            self.head.next = temp\n",
    "            temp.prev = self.head\n",
    "        self.length += 1\n",
    "        return True\n",
    "\n",
    "    def prepend(self, value):\n",
    "        new_node = Node_DLL(value)\n",
    "        if self.length == 0:\n",
    "            self.head = new_node\n",
    "            self.tail = new_node\n",
    "        else:\n",
    "            new_node.next = self.head\n",
    "            self.head.prev = new_node\n",
    "            self.head = new_node\n",
    "        self.length += 1\n",
    "        return True\n",
    "\n",
    "    def pop_first(self):\n",
    "        if self.length == 0:\n",
    "            return None\n",
    "        popped = self.head\n",
    "        if self.length == 1:\n",
    "            self.head = None\n",
    "            self.tail = None\n",
    "        else:\n",
    "            self.head = self.head.next\n",
    "            popped.next = None\n",
    "            self.head.prev = None\n",
    "        self.length -=1\n",
    "        return popped\n",
    "    \n",
    "    def get(self, index):\n",
    "        if index <0 or index >= self.length:\n",
    "            return None\n",
    "        if index >= self.length/2:\n",
    "            temp = self.tail # start from the back\n",
    "            for _ in range(self.length - index - 1):\n",
    "                temp = temp.prev\n",
    "        else:\n",
    "            temp = self.head\n",
    "            for _ in range(index):\n",
    "                temp = temp.next\n",
    "        return temp\n",
    "    \n",
    "    # changes value of node at index.\n",
    "    def set_value(self, index, value):\n",
    "        temp = self.get(index)\n",
    "        if temp:\n",
    "            temp.value = value\n",
    "            return True\n",
    "        else:\n",
    "            return False\n",
    "\n",
    "    def insert(self, index, value):\n",
    "        if index < 0 or index >= self.length:\n",
    "            return False\n",
    "        if index == 0:\n",
    "            return self.prepend(value)\n",
    "        if index == self.length:\n",
    "            return self.append(value)\n",
    "        new_node = Node_DLL(value)\n",
    "        before = self.get(index-1)\n",
    "        after = before.next\n",
    "        before.next = new_node\n",
    "        after.prev = new_node\n",
    "        new_node.prev = before\n",
    "        new_node.next = after\n",
    "        self.length += 1\n",
    "        return True\n",
    "\n",
    "    def remove(self, index):\n",
    "        if index < 0 or index >= self.length:\n",
    "            return None\n",
    "        if index == 0:\n",
    "            return self.pop_first()\n",
    "        if index == self.length - 1:\n",
    "            return self.pop()\n",
    "        removed = self.get(index)\n",
    "        before = removed.prev\n",
    "        after = removed.next\n",
    "        before.next = after\n",
    "        after.prev = before\n",
    "        removed.next = None\n",
    "        removed.prev = None\n",
    "        self.length-=1\n",
    "        return removed     "
   ]
  },
  {
   "cell_type": "code",
   "execution_count": 562,
   "metadata": {},
   "outputs": [
    {
     "name": "stdout",
     "output_type": "stream",
     "text": [
      "1\n",
      "2\n",
      "3\n",
      "4\n",
      "5\n"
     ]
    }
   ],
   "source": [
    "my_doubly_linked_list = DoublyLinkedList(1)\n",
    "my_doubly_linked_list.append(2)\n",
    "my_doubly_linked_list.append(3)\n",
    "my_doubly_linked_list.append(4)\n",
    "my_doubly_linked_list.append(5)\n",
    "my_doubly_linked_list.print_list()"
   ]
  },
  {
   "cell_type": "code",
   "execution_count": 563,
   "metadata": {},
   "outputs": [
    {
     "data": {
      "text/plain": [
       "5"
      ]
     },
     "execution_count": 563,
     "metadata": {},
     "output_type": "execute_result"
    }
   ],
   "source": [
    "my_doubly_linked_list.pop().value"
   ]
  },
  {
   "cell_type": "code",
   "execution_count": 564,
   "metadata": {},
   "outputs": [
    {
     "name": "stdout",
     "output_type": "stream",
     "text": [
      "0\n",
      "1\n",
      "2\n",
      "3\n",
      "4\n"
     ]
    }
   ],
   "source": [
    "my_doubly_linked_list.prepend(0)\n",
    "my_doubly_linked_list.print_list()"
   ]
  },
  {
   "cell_type": "code",
   "execution_count": 565,
   "metadata": {},
   "outputs": [
    {
     "name": "stdout",
     "output_type": "stream",
     "text": [
      "1\n",
      "2\n",
      "3\n",
      "4\n"
     ]
    }
   ],
   "source": [
    "my_doubly_linked_list.pop_first()\n",
    "my_doubly_linked_list.print_list()"
   ]
  },
  {
   "cell_type": "code",
   "execution_count": 566,
   "metadata": {},
   "outputs": [
    {
     "data": {
      "text/plain": [
       "4"
      ]
     },
     "execution_count": 566,
     "metadata": {},
     "output_type": "execute_result"
    }
   ],
   "source": [
    "my_doubly_linked_list.get(3).value"
   ]
  },
  {
   "cell_type": "code",
   "execution_count": 567,
   "metadata": {},
   "outputs": [
    {
     "name": "stdout",
     "output_type": "stream",
     "text": [
      "1\n",
      "2\n",
      "3\n",
      "1000\n",
      "4\n"
     ]
    }
   ],
   "source": [
    "my_doubly_linked_list.insert(3,1000)\n",
    "my_doubly_linked_list.print_list()"
   ]
  },
  {
   "cell_type": "code",
   "execution_count": 568,
   "metadata": {},
   "outputs": [
    {
     "name": "stdout",
     "output_type": "stream",
     "text": [
      "removed value: 1000\n",
      "1\n",
      "2\n",
      "3\n",
      "4\n"
     ]
    }
   ],
   "source": [
    "print(f\"removed value: {my_doubly_linked_list.remove(3).value}\")\n",
    "my_doubly_linked_list.print_list()"
   ]
  },
  {
   "cell_type": "markdown",
   "metadata": {},
   "source": [
    "### Stacks\n",
    "\n",
    "- Analogy: a tube of tennis balls. you only have access to the top-most ball\n",
    "- LIFO (last in first out)\n",
    "- Implemented using a linkedlist. But:\n",
    "1. we prepend instead of append when adding (because it is O(n) to pop the last node, but O(1) to pop first node). \n",
    "2. we only need to track the top (or self.first when thinking from linkedlist POV)."
   ]
  },
  {
   "cell_type": "code",
   "execution_count": 609,
   "metadata": {},
   "outputs": [],
   "source": [
    "class Node:\n",
    "    def __init__(self, value):\n",
    "        self.value = value\n",
    "        self.next = None\n",
    "\n",
    "class Stack:\n",
    "    def __init__(self, value):\n",
    "        new_node = Node(value)\n",
    "        self.top = new_node\n",
    "        self.height = 1\n",
    "    \n",
    "    def print_list(self):\n",
    "        temp = self.top\n",
    "        while temp is not None:\n",
    "            print(temp.value)\n",
    "            temp = temp.next\n",
    "    \n",
    "    def push(self, value):\n",
    "        new_node = Node(value)\n",
    "        if self.height == 0:\n",
    "            self.top = new_node\n",
    "        else:\n",
    "            new_node.next = self.top\n",
    "            self.top = new_node\n",
    "        self.height += 1\n",
    "    \n",
    "    def pop(self):\n",
    "        if self.height == 0:\n",
    "            return None\n",
    "        popped = self.top\n",
    "        self.top = popped.next\n",
    "        popped.next = None\n",
    "        self.height -= 1\n",
    "        return popped\n"
   ]
  },
  {
   "cell_type": "code",
   "execution_count": 610,
   "metadata": {},
   "outputs": [
    {
     "name": "stdout",
     "output_type": "stream",
     "text": [
      "4\n"
     ]
    }
   ],
   "source": [
    "my_stack = Stack(4)\n",
    "my_stack.print_list()"
   ]
  },
  {
   "cell_type": "code",
   "execution_count": 611,
   "metadata": {},
   "outputs": [
    {
     "name": "stdout",
     "output_type": "stream",
     "text": [
      "1\n",
      "2\n",
      "3\n",
      "4\n"
     ]
    }
   ],
   "source": [
    "my_stack.push(3)\n",
    "my_stack.push(2)\n",
    "my_stack.push(1)\n",
    "my_stack.print_list()"
   ]
  },
  {
   "cell_type": "code",
   "execution_count": 612,
   "metadata": {},
   "outputs": [
    {
     "data": {
      "text/plain": [
       "1"
      ]
     },
     "execution_count": 612,
     "metadata": {},
     "output_type": "execute_result"
    }
   ],
   "source": [
    "my_stack.pop().value"
   ]
  },
  {
   "cell_type": "markdown",
   "metadata": {},
   "source": [
    "### Queues\n",
    "\n",
    "- FIFO\n",
    "- Implemented using a Linkedlist, but:\n",
    "1. we replace self.head with self.first, and self.tail with self.last\n",
    "2. Because linkedlist pop last is O(n), so we dequeue (i.e. pop) from the self.first, and enqueue (i.e. append) from self.last"
   ]
  },
  {
   "cell_type": "code",
   "execution_count": 694,
   "metadata": {},
   "outputs": [],
   "source": [
    "class Node:\n",
    "    def __init__(self, value):\n",
    "        self.value = value\n",
    "        self.next = None\n",
    "\n",
    "class Queue:\n",
    "    def __init__(self, value):\n",
    "        new_node = Node(value)\n",
    "        self.first = new_node\n",
    "        self.last = new_node\n",
    "        self.length = 1\n",
    "    \n",
    "    def print_queue(self):\n",
    "        temp = self.first\n",
    "        while temp is not None:\n",
    "            print(temp.value)\n",
    "            temp = temp.next\n",
    "    \n",
    "    def enqueue(self, value):\n",
    "        new_node = Node(value)\n",
    "        if self.length == 0: # NOTE: `if self.first is None` also works\n",
    "            self.first = new_node\n",
    "            self.last = new_node\n",
    "        else:\n",
    "            self.last.next = new_node\n",
    "            self.last = new_node\n",
    "        self.length +=1\n",
    "        \n",
    "    def dequeue(self):\n",
    "        if self.length == 0:\n",
    "            return None\n",
    "        popped = self.first\n",
    "        if self.length == 1:\n",
    "            self.first = None\n",
    "            self.last = None\n",
    "        else: \n",
    "            self.first = popped.next\n",
    "            popped.next = None\n",
    "        self.length -=1\n",
    "        return popped"
   ]
  },
  {
   "cell_type": "code",
   "execution_count": 685,
   "metadata": {},
   "outputs": [
    {
     "name": "stdout",
     "output_type": "stream",
     "text": [
      "1\n"
     ]
    }
   ],
   "source": [
    "my_queue = Queue(1)\n",
    "my_queue.print_queue()"
   ]
  },
  {
   "cell_type": "code",
   "execution_count": 686,
   "metadata": {},
   "outputs": [
    {
     "name": "stdout",
     "output_type": "stream",
     "text": [
      "1\n",
      "2\n",
      "3\n",
      "4\n"
     ]
    }
   ],
   "source": [
    "my_queue.enqueue(2)\n",
    "my_queue.enqueue(3)\n",
    "my_queue.enqueue(4)\n",
    "my_queue.print_queue()"
   ]
  },
  {
   "cell_type": "code",
   "execution_count": 687,
   "metadata": {},
   "outputs": [
    {
     "name": "stdout",
     "output_type": "stream",
     "text": [
      "1\n",
      "2\n",
      "3\n",
      "4\n",
      "None\n",
      "None\n"
     ]
    }
   ],
   "source": [
    "print(my_queue.dequeue().value)\n",
    "print(my_queue.dequeue().value)\n",
    "print(my_queue.dequeue().value)\n",
    "print(my_queue.dequeue().value)\n",
    "print(my_queue.dequeue())\n",
    "print(my_queue.dequeue())\n",
    "my_queue.print_queue()"
   ]
  },
  {
   "cell_type": "markdown",
   "metadata": {},
   "source": [
    "# Trees\n",
    "\n",
    "- Here we deal with binary trees\n",
    "- Full tree: at each level, every node either points to 0 or 2 nodes. A tree with a node that points to only 1 node is not full.\n",
    "- Perfect tree: at every level of the tree, its nodes are completely filled all the way across.\n",
    "- Complete tree: the tree is filled from left to right with no gaps. Btw a perfect tree is a complete tree.\n",
    "\n",
    "- A parent node has up to 2 child nodes. 2 child nodes that share a parent are sibling nodes. \n",
    "- Child nodes can also be parent nodes. Nodes with not children are known as leaf nodes."
   ]
  },
  {
   "cell_type": "markdown",
   "metadata": {},
   "source": [
    "#### Binary Search tree\n",
    "\n",
    "- Divide and conquer method\n",
    "- All nodes to the right are > than the node. Nodes to the left are < than the parent node.\n",
    "- Binary search trees are O(log n) in the best case. A perfect tree has 2^k-1 nodes, where k is the depth of the tree. To find a node, you only need k steps (at each level, compare with the node value and decide to move to the right or left of the node). Therefore for a tree with n nodes, n=2^k (drop the -1). Then we have log2n=k.\n",
    "- It is also k steps to insert a node.\n",
    "- O(log n) is very efficient, and achieved via divide and conquer.\n",
    "- In the worst case, binary search trees are O(n), where, for example, all the numbers are ALWAYs bigger than the previous number so your tree becomes a single long line.\n",
    "- But overall, we assume that for the lookup(), insert(), remove() operations for binary search tree, they are O(log n).\n",
    "\n",
    "\n",
    "Comparing with a linked list, BST is faster at lookup and remove operations at O(log n), whereas linkedlist is O(n) However linked list insert can be faster at O(1) becomes linked lists are not sorted, whereas BST insert() requires sorting. If we need to add data very quickly but retrieval is not time sensitive, we should use linkedlist instead of BST."
   ]
  },
  {
   "cell_type": "code",
   "execution_count": 940,
   "metadata": {},
   "outputs": [],
   "source": [
    "class Node_BST:\n",
    "    def __init__(self, value):\n",
    "        self.value = value\n",
    "        self.left = None\n",
    "        self.right = None\n",
    "\n",
    "class BinarySearchTree:\n",
    "    def __init__(self):\n",
    "        # NOTE: unlike previous data structures, BST initialised without nodes here\n",
    "        self.root = None\n",
    "\n",
    "    def insert(self, value):\n",
    "        # print(f'Attempting to insert value: {value}')\n",
    "        if self.root == None:\n",
    "            # print(f'setting {value} as root')\n",
    "            self.root = Node_BST(value)\n",
    "            return True\n",
    "        discriminator = self.root\n",
    "        # depth = 0\n",
    "        while discriminator is not None:\n",
    "            # depth +=1\n",
    "            # print(f'discriminator.value: {discriminator.value}')\n",
    "            # print(f'depth: {depth}')\n",
    "            if value == discriminator.value:\n",
    "                # print('oops no duplicates allowed')\n",
    "                return False\n",
    "            if value < discriminator.value:\n",
    "                # print(f'went left as value was {value}')\n",
    "                if discriminator.left == None:\n",
    "                    discriminator.left = Node_BST(value)\n",
    "                    # print(f'assigned node with value {value}')\n",
    "                    return True\n",
    "                else:\n",
    "                    discriminator = discriminator.left\n",
    "            else:\n",
    "                # print('went right')\n",
    "                if discriminator.right == None:\n",
    "                    discriminator.right = Node_BST(value)\n",
    "                    # print(f'assigned node with value {value}')\n",
    "                    return True\n",
    "                else:\n",
    "                    discriminator = discriminator.right\n",
    "\n",
    "    def contains(self, value):\n",
    "        # if self.root is None:  # don't need this actually\n",
    "        #     return False\n",
    "        temp = self.root\n",
    "        while temp is not None:\n",
    "            if value < temp.value:\n",
    "                temp = temp.left\n",
    "            elif value > temp.value:\n",
    "                temp = temp.right\n",
    "            else:\n",
    "                return True\n",
    "        return False\n",
    "\n",
    "    def min_value_node(self, current_node):\n",
    "        while current_node.left is not None:\n",
    "            current_node = current_node.left\n",
    "        return current_node"
   ]
  },
  {
   "cell_type": "code",
   "execution_count": 941,
   "metadata": {},
   "outputs": [],
   "source": [
    "BST = BinarySearchTree()"
   ]
  },
  {
   "cell_type": "code",
   "execution_count": 942,
   "metadata": {},
   "outputs": [
    {
     "data": {
      "text/plain": [
       "True"
      ]
     },
     "execution_count": 942,
     "metadata": {},
     "output_type": "execute_result"
    }
   ],
   "source": [
    "BST.insert(50)\n",
    "BST.insert(20)\n",
    "BST.insert(100)\n",
    "BST.insert(10)\n",
    "BST.insert(30)\n",
    "BST.insert(15)"
   ]
  },
  {
   "cell_type": "code",
   "execution_count": 943,
   "metadata": {},
   "outputs": [
    {
     "name": "stdout",
     "output_type": "stream",
     "text": [
      "50\n",
      "20\n",
      "100\n",
      "10\n",
      "30\n",
      "15\n"
     ]
    }
   ],
   "source": [
    "print(BST.root.value)\n",
    "print(BST.root.left.value)\n",
    "print(BST.root.right.value)\n",
    "print(BST.root.left.left.value)\n",
    "print(BST.root.left.right.value)\n",
    "print(BST.root.left.left.right.value)"
   ]
  },
  {
   "cell_type": "code",
   "execution_count": 944,
   "metadata": {},
   "outputs": [
    {
     "name": "stdout",
     "output_type": "stream",
     "text": [
      "False\n",
      "True\n",
      "True\n",
      "True\n",
      "False\n",
      "False\n"
     ]
    }
   ],
   "source": [
    "print(BST.contains(5))\n",
    "print(BST.contains(10))\n",
    "print(BST.contains(15))\n",
    "print(BST.contains(20))\n",
    "print(BST.contains(25))\n",
    "print(BST.contains(110))"
   ]
  },
  {
   "cell_type": "code",
   "execution_count": 946,
   "metadata": {},
   "outputs": [
    {
     "data": {
      "text/plain": [
       "10"
      ]
     },
     "execution_count": 946,
     "metadata": {},
     "output_type": "execute_result"
    }
   ],
   "source": [
    "BST.min_value_node(BST.root.left).value"
   ]
  },
  {
   "cell_type": "markdown",
   "metadata": {},
   "source": [
    "## Hash Tables\n",
    "\n",
    "- Hashes are one way. We take a sample (e.g. a key-value pair such as 'nails, 1000'), run it through the hash. The hash produces an address (e.g. 2) for the hash table. You cannot take the address reverse the direction of the hash and expect the sample.\n",
    "- Hashes are deterministic. When you pass in the same sample, the produced address is always the same.\n",
    "- To get the value of a sample, we run a sample key (e.g. nails) through the hash. The hash will return an address (e.g. 2) and you can look up the table and get your value of 1000.\n",
    "- Collisions: happens when you put a key value pair (e.g. nails, 1000) at an address where there is already a key value pair. To prevent overwriting, you can do:\n",
    "\n",
    "-- Separate Chaining - have a list of key-value pairs at the same address\n",
    "\n",
    "-- Linear Probing - go down the addresses and find an empty address. (Linear probing is a form of open addressing - there are many ways to do open addressing).\n",
    "\n",
    "- We do separate chaining in this course, with linkedlists at each address.\n",
    "\n",
    "- We should always have a prime number of addresses. Prime numbers increase the amount of randomness of how key-value pairs are distributed through the hash table, hence reducing collisions.\n",
    "\n",
    "##### Big O\n",
    "\n",
    "- It is O(1) to get the hash address. At each address is a Linked List. It is also O(1) to add an item at the end of the Linked List. However, it will be O(n) to get an item, where n is the number of items in the LinkedList. But remember the assumption is that, because our hash table uses prime numbers, the distribution of items is relatively even across all hash addresses. So we will not have an exceptionally long Linked List at any particular hash. In Python, the hash method/function is even more efficient with a much larger address space, so collisions are going to be rare. So we treat hash tables (i.e. dictionaries in Python) as O(1) - to both place a key value pair and look up a key.\n",
    "- While it is **O(1)** to look up by key, it is not **O(1)** to look up by value in a hash table.\n",
    "\n",
    "##### Other notes\n",
    "\n",
    "While hash tables are fast with O(1) for insert and lookup **by key**, when it comes to searching **by value**, BST is better because trees are sorted."
   ]
  },
  {
   "cell_type": "code",
   "execution_count": 1000,
   "metadata": {},
   "outputs": [],
   "source": [
    "class HashTable:\n",
    "    def __init__(self, size = 7):\n",
    "        self.data_map = [None] * size\n",
    "    \n",
    "    def _hash(self, key):\n",
    "        my_hash = 0\n",
    "        for letter in key:\n",
    "            # ord in ord(letter) is short for 'ordinal', it gets the ASCII number for each letter. \n",
    "            # 23 is prime. You can use any prime number.\n",
    "            # % (a.k.a. modulo) finds the remainder. It will have values of 0 to 6, which is aligned to our hash table\n",
    "            my_hash =  (my_hash + ord(letter) * 23) % len(self.data_map) \n",
    "        return my_hash\n",
    "    \n",
    "    def print_table(self):\n",
    "        for i, val in enumerate(self.data_map):\n",
    "            print(i, ':', val)\n",
    "\n",
    "    def set_item(self, key, value):\n",
    "        index = self._hash(key)\n",
    "        if self.data_map[index] == None:\n",
    "            self.data_map[index] = []\n",
    "        self.data_map[index].append([key,value])\n",
    "\n",
    "    def get_item(self, key):\n",
    "        index = self._hash(key)\n",
    "        if self.data_map[index] is not None:\n",
    "            for i in self.data_map[index]:\n",
    "                if i[0] == key:\n",
    "                    return i[1]\n",
    "        return None\n",
    "\n",
    "    def keys(self):\n",
    "        key_holder = []\n",
    "        for i in self.data_map:\n",
    "            if i is not None:\n",
    "                for j in i:\n",
    "                    key_holder.append(j[0])\n",
    "        return key_holder\n",
    "\n",
    "    "
   ]
  },
  {
   "cell_type": "code",
   "execution_count": 1001,
   "metadata": {},
   "outputs": [
    {
     "name": "stdout",
     "output_type": "stream",
     "text": [
      "0 : None\n",
      "1 : None\n",
      "2 : None\n",
      "3 : None\n",
      "4 : None\n",
      "5 : None\n",
      "6 : None\n"
     ]
    }
   ],
   "source": [
    "my_hash_table = HashTable()\n",
    "my_hash_table.print_table()"
   ]
  },
  {
   "cell_type": "code",
   "execution_count": 1002,
   "metadata": {},
   "outputs": [
    {
     "name": "stdout",
     "output_type": "stream",
     "text": [
      "0 : None\n",
      "1 : None\n",
      "2 : None\n",
      "3 : None\n",
      "4 : [['bolts', 1400], ['washers', 50]]\n",
      "5 : None\n",
      "6 : [['lumber', 70]]\n"
     ]
    }
   ],
   "source": [
    "my_hash_table.set_item('bolts', 1400)\n",
    "my_hash_table.set_item('washers',50)\n",
    "my_hash_table.set_item('lumber',70)\n",
    "my_hash_table.print_table()"
   ]
  },
  {
   "cell_type": "code",
   "execution_count": 1003,
   "metadata": {},
   "outputs": [
    {
     "name": "stdout",
     "output_type": "stream",
     "text": [
      "70\n",
      "None\n"
     ]
    }
   ],
   "source": [
    "print(my_hash_table.get_item('lumber'))\n",
    "print(my_hash_table.get_item('mail'))"
   ]
  },
  {
   "cell_type": "code",
   "execution_count": 1004,
   "metadata": {},
   "outputs": [
    {
     "data": {
      "text/plain": [
       "['bolts', 'washers', 'lumber']"
      ]
     },
     "execution_count": 1004,
     "metadata": {},
     "output_type": "execute_result"
    }
   ],
   "source": [
    "my_hash_table.keys()"
   ]
  },
  {
   "cell_type": "markdown",
   "metadata": {},
   "source": [
    "###  Common interview question involving hash tables\n",
    "\n",
    "Given 2 lists, find if there are any duplicates between them."
   ]
  },
  {
   "cell_type": "code",
   "execution_count": 1026,
   "metadata": {},
   "outputs": [],
   "source": [
    "# naive way: don't do this!\n",
    "def item_in_common_dumb(list1, list2):\n",
    "    for i in list1:\n",
    "        for j in list2:\n",
    "            if i==j:\n",
    "                return True\n",
    "    return False\n",
    "\n",
    "# do it the smart way, with O(2n), which simplifies to O(n)\n",
    "def item_in_common_smart(list1, list2):\n",
    "    list1_dict = {}\n",
    "    # this is O(n)\n",
    "    for i in list1:\n",
    "        list1_dict[i] = True\n",
    "    # this is O(n)\n",
    "    for j in list2:\n",
    "        if j in list1_dict:\n",
    "            return True\n",
    "    return False\n"
   ]
  },
  {
   "cell_type": "code",
   "execution_count": 1027,
   "metadata": {},
   "outputs": [
    {
     "data": {
      "text/plain": [
       "True"
      ]
     },
     "execution_count": 1027,
     "metadata": {},
     "output_type": "execute_result"
    }
   ],
   "source": [
    "list1 = [1,3,5]\n",
    "list2 = [2,4,5]\n",
    "item_in_common_smart(list1, list2)"
   ]
  },
  {
   "cell_type": "markdown",
   "metadata": {},
   "source": [
    "## Graphs\n",
    "\n",
    "- Graphs can have weighted edges, as seen in network routing protocols.\n",
    "- Edges can be bidirectional or directional.\n",
    "- Linked List is a form of tree, tree is a form of graph. (So Linked List is a form of graph)\n",
    "- Graphs can be represented via:\n",
    "1. Adjacency Matrix - it is symmetrical about diagonal if bidirectional. Diagonal is all zeroes because a vertex/node cannot have edge with itself.\n",
    "2. Adjacency List. E.g. {'A':['B','C'], 'B':['C'], 'C':['A']}\n",
    "\n",
    "##### BigO\n",
    "From Space Complexity POV:\n",
    "- Adjacency Matrix stores O(|V|^2) because for each vertex/node, it needs to store whether there is an edge to every other node in the Matrix.\n",
    "- Adjacency List stores O(|V|+|E|) since for each node, it just needs to store which it has an edge to.\n",
    "\n",
    "For Time Complexity POV, \n",
    "- Add vertex/node. For Adjacency List is O(1) because we just add 'D':[] to the List. For Adjacency Matrix, it is O(|V|)^2 because we need to populate the bottom row and right most column of the added vertex of the Matrix.\n",
    "- Add edge: For Adjency List and Matrix, both are O(1). For Adjacency Matrix, just update 2 cells in Matrix to 1 to record the new edge (presumably the cells are stored via hash table so it's O(1)). For Adjacency List, just append in the 2 dictionaries of the start and end node that there is an edge to the end and start node respectively - also O(1).\n",
    "- Remove edge: For Adjacency Matrix, it's O(1) to go to the reference and change from 1 to 0 (assuming edge has no weight).For Adjancency List, we need to go to the node's dictionary that records edges and search through all the edges to remove the relevant edge, thus it is O(|E|).\n",
    "- Remove vertex/node: For Matrix, it is O(|V|^2). For List, it's O(|V|+|E|). Personal note: why is it not O(|V|*|E|)?\n",
    "\n"
   ]
  },
  {
   "cell_type": "code",
   "execution_count": 1255,
   "metadata": {},
   "outputs": [],
   "source": [
    "class Graph:\n",
    "    def __init__(self):\n",
    "        self.adj_list = {}\n",
    "        # self.adj_list\n",
    "    \n",
    "    def print_graph(self):\n",
    "        for key, value in self.adj_list.items():\n",
    "            print(f'{key} : {value}')\n",
    "\n",
    "    def add_vertex(self, vertex):\n",
    "        if vertex not in self.adj_list.keys():\n",
    "            self.adj_list[vertex] = []\n",
    "            return True\n",
    "        return False\n",
    "\n",
    "    def add_edge(self, v1, v2):\n",
    "        if v1 in self.adj_list.keys() and v2 in self.adj_list.keys():\n",
    "            if v2 not in self.adj_list[v1]:\n",
    "                self.adj_list[v1].append(v2)\n",
    "            if v1 not in self.adj_list[v2]:\n",
    "                self.adj_list[v2].append(v1)\n",
    "            return True\n",
    "        return False\n",
    "\n",
    "    def remove_edge(self, v1, v2):\n",
    "        if v1 in self.adj_list.keys() and v2 in self.adj_list.keys():\n",
    "            try:\n",
    "                self.adj_list[v1].remove(v2)  # googling suggest that time complexity of remove is O(n)\n",
    "                self.adj_list[v2].remove(v1)\n",
    "            except ValueError:\n",
    "                print(f\"No edge between {v1} and {v2}\")\n",
    "            return True\n",
    "        return False\n",
    "\n",
    "    def remove_vertex(self, v1):\n",
    "        if v1 in self.adj_list.keys():\n",
    "            for edge_to_node in self.adj_list[v1]:  # makes use of the shortcut of bidirectional edge.\n",
    "                self.adj_list[edge_to_node].remove(v1)\n",
    "            del self.adj_list[v1]\n",
    "            return True\n",
    "        return False"
   ]
  },
  {
   "cell_type": "code",
   "execution_count": 1256,
   "metadata": {},
   "outputs": [
    {
     "name": "stdout",
     "output_type": "stream",
     "text": [
      "A : []\n",
      "B : []\n",
      "C : []\n",
      "D : []\n"
     ]
    }
   ],
   "source": [
    "my_graph = Graph()\n",
    "my_graph.add_vertex('A')\n",
    "my_graph.add_vertex('B')\n",
    "my_graph.add_vertex('C')\n",
    "my_graph.add_vertex('D')\n",
    "my_graph.print_graph()\n"
   ]
  },
  {
   "cell_type": "code",
   "execution_count": 1257,
   "metadata": {},
   "outputs": [
    {
     "name": "stdout",
     "output_type": "stream",
     "text": [
      "A : ['B', 'C']\n",
      "B : ['A', 'C']\n",
      "C : ['B', 'A', 'D']\n",
      "D : ['C']\n"
     ]
    }
   ],
   "source": [
    "my_graph.add_edge('A', 'B')\n",
    "my_graph.add_edge('B', 'C')\n",
    "my_graph.add_edge('A', 'C')\n",
    "my_graph.add_edge('A', 'E')\n",
    "my_graph.add_edge('C', 'D')\n",
    "\n",
    "my_graph.print_graph()"
   ]
  },
  {
   "cell_type": "code",
   "execution_count": 1258,
   "metadata": {},
   "outputs": [
    {
     "name": "stdout",
     "output_type": "stream",
     "text": [
      "No edge between A and D\n",
      "A : ['B']\n",
      "B : ['A', 'C']\n",
      "C : ['B', 'D']\n",
      "D : ['C']\n"
     ]
    }
   ],
   "source": [
    "my_graph.remove_edge('A', 'C')\n",
    "my_graph.remove_edge('A', 'D')\n",
    "my_graph.print_graph()"
   ]
  },
  {
   "cell_type": "code",
   "execution_count": 1259,
   "metadata": {},
   "outputs": [
    {
     "name": "stdout",
     "output_type": "stream",
     "text": [
      "B : ['C']\n",
      "C : ['B', 'D']\n",
      "D : ['C']\n"
     ]
    }
   ],
   "source": [
    "my_graph.remove_vertex('A')\n",
    "my_graph.print_graph()"
   ]
  },
  {
   "cell_type": "markdown",
   "metadata": {},
   "source": [
    "### Recursion\n",
    "\n",
    "Call Stack. Same as stack (tube of tennis balls), basically need to run each function in turn. First run the function at the top, then the one below.\n",
    "\n"
   ]
  },
  {
   "cell_type": "code",
   "execution_count": 1264,
   "metadata": {},
   "outputs": [],
   "source": [
    "# this is a call stack. function3 needs to finish running before function2 finishes, then function1.\n",
    "# So hierachy of tennis balls is: \n",
    "# - function1 put into tube (at the bottom),\n",
    "# - function2 added and put into tube (on top of function1)\n",
    "# - function3 put on top of function2\n",
    "# - need to finish running function3 to remove it from the call stack, before going on to function2 then function1\n",
    "# Therefore, note that we called functions in order of 1,2,3 but printout was three, two, one because of callstack.\n",
    "def function1():\n",
    "    function2()\n",
    "    print('one')\n",
    "\n",
    "def function2():\n",
    "    function3()\n",
    "    print('two')\n",
    "\n",
    "def function3():\n",
    "    print('three')"
   ]
  },
  {
   "cell_type": "code",
   "execution_count": 1266,
   "metadata": {},
   "outputs": [
    {
     "name": "stdout",
     "output_type": "stream",
     "text": [
      "three\n",
      "two\n",
      "one\n"
     ]
    }
   ],
   "source": [
    "function1()"
   ]
  },
  {
   "cell_type": "code",
   "execution_count": 56,
   "metadata": {},
   "outputs": [],
   "source": [
    "def factorial(number):\n",
    "    if number == 1:\n",
    "        return 1\n",
    "    else:  # technically else is not necessary since return 1 exits function\n",
    "        return number * factorial(number-1)"
   ]
  },
  {
   "cell_type": "code",
   "execution_count": 57,
   "metadata": {},
   "outputs": [
    {
     "data": {
      "text/plain": [
       "120"
      ]
     },
     "execution_count": 57,
     "metadata": {},
     "output_type": "execute_result"
    }
   ],
   "source": [
    "factorial(5)\n",
    "\n",
    "# note here that in terms of call stack, factorial(1) is at the top of call stack, followed by factorial(2), so on\n",
    "# we need to run the top of the call stack first and slowly make our way down the call stack."
   ]
  },
  {
   "cell_type": "markdown",
   "metadata": {},
   "source": [
    "### Sorting\n",
    "\n",
    "##### Bubble Sort"
   ]
  },
  {
   "cell_type": "markdown",
   "metadata": {},
   "source": [
    "O(n^2) time complexity. O(1) space complexity as sort is done in place (no additional copies created)."
   ]
  },
  {
   "cell_type": "code",
   "execution_count": 31,
   "metadata": {},
   "outputs": [],
   "source": [
    "def bubble_sort(numlist):\n",
    "    count = len(numlist)-1\n",
    "    for _ in range(len(numlist)):\n",
    "        for i in range(count):\n",
    "            if numlist[i] > numlist[i+1]:\n",
    "                temp = numlist[i]\n",
    "                numlist[i] = numlist[i+1]\n",
    "                numlist[i+1] = temp\n",
    "        count-=1\n",
    "    return numlist\n"
   ]
  },
  {
   "cell_type": "code",
   "execution_count": 32,
   "metadata": {},
   "outputs": [
    {
     "data": {
      "text/plain": [
       "[0, 1, 2, 3, 3, 5, 100, 100, 1000]"
      ]
     },
     "execution_count": 32,
     "metadata": {},
     "output_type": "execute_result"
    }
   ],
   "source": [
    "numlist = [1000, 100, 3,5,1,100,2,3,0]\n",
    "bubble_sort(numlist)"
   ]
  },
  {
   "cell_type": "markdown",
   "metadata": {},
   "source": [
    "## Selection Sort"
   ]
  },
  {
   "cell_type": "markdown",
   "metadata": {},
   "source": [
    "O(n^2) time complexity. O(1) space complexity as sort is done in place (no additional copies created)."
   ]
  },
  {
   "cell_type": "code",
   "execution_count": 5,
   "metadata": {},
   "outputs": [],
   "source": [
    "def selection_sort(list_to_sort):\n",
    "    for i in range(len(list_to_sort)-1):\n",
    "        min_index = i\n",
    "        for j in range(i+1, len(list_to_sort)):\n",
    "            if list_to_sort[j] < list_to_sort[min_index]:\n",
    "                min_index = j\n",
    "        if i != min_index:\n",
    "            val_to_swap = list_to_sort[i]\n",
    "            list_to_sort[i] = list_to_sort[min_index]\n",
    "            list_to_sort[min_index] = val_to_swap\n",
    "    return list_to_sort"
   ]
  },
  {
   "cell_type": "code",
   "execution_count": 6,
   "metadata": {},
   "outputs": [
    {
     "data": {
      "text/plain": [
       "[1, 2, 3, 4, 5, 6]"
      ]
     },
     "execution_count": 6,
     "metadata": {},
     "output_type": "execute_result"
    }
   ],
   "source": [
    "selection_sort([4,2,6,5,1,3])"
   ]
  },
  {
   "cell_type": "markdown",
   "metadata": {},
   "source": [
    "### Insertion Sort"
   ]
  },
  {
   "cell_type": "markdown",
   "metadata": {},
   "source": [
    "Worst case is O(N^2) time complexity. but if data is almost sorted, the time complexity is O(n). \n",
    "\n",
    "O(1) space complexity as sort is done in place (no additional copies created)."
   ]
  },
  {
   "cell_type": "code",
   "execution_count": 1,
   "metadata": {},
   "outputs": [],
   "source": [
    "def insertion_sort(mylist):\n",
    "    for i in range(1, len(mylist)):\n",
    "        min_index = i\n",
    "        for j in range(i, 0, -1):\n",
    "            # print(f'j: {j}, i: {i}')\n",
    "            # print(f'mylist[i]: {mylist[i]} and mylist[j-1]: {mylist[j-1]}')\n",
    "            if mylist[i] < mylist[j-1]:\n",
    "                min_index = j-1\n",
    "            else:\n",
    "                break\n",
    "        # if min_index == 0:\n",
    "        holder = mylist.pop(i)\n",
    "        mylist.insert(min_index, holder)\n",
    "        # else:\n",
    "        #     holder = mylist[i]\n",
    "        #     mylist[i] = mylist[min_index]\n",
    "        #     mylist[min_index] = holder\n",
    "        \n",
    "    return mylist\n",
    "                "
   ]
  },
  {
   "cell_type": "code",
   "execution_count": 3,
   "metadata": {},
   "outputs": [],
   "source": [
    "def insertion_sort(mylist):\n",
    "    for i in range(1, len(mylist)):\n",
    "        temp = mylist[i]\n",
    "        j = i-1\n",
    "        while mylist[j] > temp and j > -1:\n",
    "            mylist[j+1] = mylist[j]\n",
    "            mylist[j] = temp\n",
    "            j -=1\n",
    "    return mylist"
   ]
  },
  {
   "cell_type": "code",
   "execution_count": 5,
   "metadata": {},
   "outputs": [
    {
     "data": {
      "text/plain": [
       "[1, 2, 3, 4, 5, 6]"
      ]
     },
     "execution_count": 5,
     "metadata": {},
     "output_type": "execute_result"
    }
   ],
   "source": [
    "insertion_sort([4,2,6,5,1,3])"
   ]
  },
  {
   "cell_type": "markdown",
   "metadata": {},
   "source": [
    "## Merge Sort\n",
    "\n",
    "Space complexity O(n), as you need to create new lists. you break the list down into another set of n numbers.\n",
    "Time complexity is O(n logn). To break the list down is log(n) as you keep breaking in half. Putting back together is n, because you compare each number one by one."
   ]
  },
  {
   "cell_type": "code",
   "execution_count": 10,
   "metadata": {},
   "outputs": [],
   "source": [
    "def merge(list1, list2):\n",
    "    i = 0\n",
    "    j = 0\n",
    "    list_combined = []\n",
    "    while i < len(list1) and j < len(list2):\n",
    "        if list1[i] < list2[j]:\n",
    "            list_combined.append(list1[i])\n",
    "            i+=1\n",
    "        else:\n",
    "            list_combined.append(list2[j])\n",
    "            j += 1\n",
    "    while i < len(list1):\n",
    "        list_combined.append(list1[i])\n",
    "        i +=1\n",
    "    while j < len(list2):\n",
    "        list_combined.append(list2[j])\n",
    "        j+=1\n",
    "\n",
    "    return list_combined"
   ]
  },
  {
   "cell_type": "code",
   "execution_count": 11,
   "metadata": {},
   "outputs": [
    {
     "data": {
      "text/plain": [
       "[1, 2, 3, 3, 4, 5]"
      ]
     },
     "execution_count": 11,
     "metadata": {},
     "output_type": "execute_result"
    }
   ],
   "source": [
    "merge([1,3,4], [2,3,5])"
   ]
  },
  {
   "cell_type": "code",
   "execution_count": 14,
   "metadata": {},
   "outputs": [],
   "source": [
    "# NOTE: requires merge to run\n",
    "\n",
    "def mergesort(mylist):\n",
    "    if len(mylist) == 1:\n",
    "        return mylist\n",
    "    mid = int(len(mylist)/2)\n",
    "    mylist_left = mylist[:mid]\n",
    "    mylist_right = mylist[mid:]\n",
    "    return merge(mergesort(mylist_left), mergesort(mylist_right))\n",
    "    "
   ]
  },
  {
   "cell_type": "code",
   "execution_count": 16,
   "metadata": {},
   "outputs": [
    {
     "data": {
      "text/plain": [
       "[1, 1, 2, 3, 4, 6]"
      ]
     },
     "execution_count": 16,
     "metadata": {},
     "output_type": "execute_result"
    }
   ],
   "source": [
    "x = mergesort([1,2,3,4,6,1])\n",
    "x"
   ]
  },
  {
   "cell_type": "markdown",
   "metadata": {},
   "source": [
    "# Quick Sort\n",
    "\n",
    "Time complexity worst-case is O(n^2) if you have already sorted data.\n",
    "Otherwise it is on average O(nlogn).\n",
    "Compare to insertion sort which is typicaly O(n^2) but if you are adding to already sorted data, it is O(n)."
   ]
  },
  {
   "cell_type": "code",
   "execution_count": 22,
   "metadata": {},
   "outputs": [],
   "source": [
    "def pivot(mylist, pivot_index, end_index):\n",
    "    swap_index = pivot_index\n",
    "    for i in range(pivot_index + 1, end_index + 1):\n",
    "        print('i', i)\n",
    "        print(mylist[i])\n",
    "        print(mylist[pivot_index])\n",
    "        if mylist[i] < mylist[pivot_index]:\n",
    "            swap_index += 1\n",
    "            swap(mylist, i, swap_index)\n",
    "    swap(mylist, pivot_index, swap_index)\n",
    "    return swap_index\n",
    "\n",
    "def swap(mylist, index_a, index_b):\n",
    "    holder = mylist[index_a]\n",
    "    mylist[index_a] = mylist[index_b]\n",
    "    mylist[index_b] = holder\n",
    "    #return mylist\n"
   ]
  },
  {
   "cell_type": "code",
   "execution_count": 43,
   "metadata": {},
   "outputs": [],
   "source": [
    "def pivot(mylist, pivot_index, end_index):\n",
    "    swap_index = pivot_index\n",
    "    for i in range(pivot_index + 1, end_index + 1):\n",
    "        if mylist[i] < mylist[pivot_index]:\n",
    "            swap_index += 1\n",
    "            swap(i, swap_index)\n",
    "    swap(pivot_index, swap_index)\n",
    "    return swap_index\n",
    "\n",
    "def swap(index_a, index_b):\n",
    "    holder = mylist[index_a]\n",
    "    mylist[index_a] = mylist[index_b]\n",
    "    mylist[index_b] = holder\n",
    "\n",
    "def quick_sort_helper(mylist, left, right):\n",
    "    pivot_index = pivot(mylist, left, right)\n",
    "    if left < right:\n",
    "        quick_sort_helper(mylist, left, pivot_index-1)\n",
    "        quick_sort_helper(mylist, pivot_index+1, right)\n",
    "    return mylist\n",
    "\n",
    "def quick_sort(mylist):\n",
    "    return quick_sort_helper(mylist, 0, len(mylist)-1)\n"
   ]
  },
  {
   "cell_type": "code",
   "execution_count": 44,
   "metadata": {},
   "outputs": [
    {
     "name": "stdout",
     "output_type": "stream",
     "text": [
      "3\n",
      "[1, 2, 3, 4, 4, 6, 4, 6, 10, 7, 10]\n"
     ]
    }
   ],
   "source": [
    "mylist = [4, 10, 4, 2, 3, 6, 4, 6, 1, 7, 10]\n",
    "\n",
    "print(pivot(mylist, 0, 10))\n",
    "print(mylist)"
   ]
  },
  {
   "cell_type": "code",
   "execution_count": 45,
   "metadata": {},
   "outputs": [
    {
     "data": {
      "text/plain": [
       "[1, 2, 3, 4, 4, 4, 6, 6, 7, 10, 10]"
      ]
     },
     "execution_count": 45,
     "metadata": {},
     "output_type": "execute_result"
    }
   ],
   "source": [
    "quick_sort(mylist)"
   ]
  },
  {
   "cell_type": "code",
   "execution_count": null,
   "metadata": {},
   "outputs": [],
   "source": [
    "if include_subfolders:\n",
    "    \n",
    "else:\n",
    "    audiofiles = glob.glob(str(folder_path) + \"/*.wav\")"
   ]
  },
  {
   "cell_type": "code",
   "execution_count": 2,
   "metadata": {},
   "outputs": [
    {
     "data": {
      "text/plain": [
       "['C:/Users/Kevin/Desktop/test1\\\\1a.txt',\n",
       " 'C:/Users/Kevin/Desktop/test1\\\\1b.txt',\n",
       " 'C:/Users/Kevin/Desktop/test1\\\\test2\\\\2a.txt',\n",
       " 'C:/Users/Kevin/Desktop/test1\\\\test2\\\\2b.txt',\n",
       " 'C:/Users/Kevin/Desktop/test1\\\\test3\\\\3a.txt',\n",
       " 'C:/Users/Kevin/Desktop/test1\\\\test3\\\\3b.txt']"
      ]
     },
     "execution_count": 2,
     "metadata": {},
     "output_type": "execute_result"
    }
   ],
   "source": [
    "import glob\n",
    "audiofiles = glob.glob(str('C:/Users/Kevin/Desktop/test1') + '/**/*.txt', recursive=True)\n",
    "audiofiles"
   ]
  },
  {
   "cell_type": "code",
   "execution_count": 3,
   "metadata": {},
   "outputs": [
    {
     "data": {
      "text/plain": [
       "['C:/Users/Kevin/Desktop/test1\\\\test2\\\\2a.txt',\n",
       " 'C:/Users/Kevin/Desktop/test1\\\\test2\\\\2b.txt',\n",
       " 'C:/Users/Kevin/Desktop/test1\\\\test3\\\\3a.txt',\n",
       " 'C:/Users/Kevin/Desktop/test1\\\\test3\\\\3b.txt']"
      ]
     },
     "execution_count": 3,
     "metadata": {},
     "output_type": "execute_result"
    }
   ],
   "source": [
    "audiofiles = glob.glob(str('C:/Users/Kevin/Desktop/test1') + '/**/*.txt')\n",
    "audiofiles"
   ]
  },
  {
   "cell_type": "code",
   "execution_count": 4,
   "metadata": {},
   "outputs": [
    {
     "data": {
      "text/plain": [
       "['C:/Users/Kevin/Desktop/test1\\\\1a.txt',\n",
       " 'C:/Users/Kevin/Desktop/test1\\\\1b.txt']"
      ]
     },
     "execution_count": 4,
     "metadata": {},
     "output_type": "execute_result"
    }
   ],
   "source": [
    "audiofiles = glob.glob(str('C:/Users/Kevin/Desktop/test1') + '/*.txt')\n",
    "audiofiles"
   ]
  },
  {
   "cell_type": "code",
   "execution_count": 2,
   "metadata": {},
   "outputs": [
    {
     "data": {
      "text/plain": [
       "['a', 'b', 'c', 'd']"
      ]
     },
     "execution_count": 2,
     "metadata": {},
     "output_type": "execute_result"
    }
   ],
   "source": [
    "a = ['a', 'b']\n",
    "z = ['c', 'd']\n",
    "a += z\n",
    "a"
   ]
  }
 ],
 "metadata": {
  "kernelspec": {
   "display_name": "Python 3.8.12 ('soundeye-experiments')",
   "language": "python",
   "name": "python3"
  },
  "language_info": {
   "codemirror_mode": {
    "name": "ipython",
    "version": 3
   },
   "file_extension": ".py",
   "mimetype": "text/x-python",
   "name": "python",
   "nbconvert_exporter": "python",
   "pygments_lexer": "ipython3",
   "version": "3.8.12"
  },
  "orig_nbformat": 4,
  "vscode": {
   "interpreter": {
    "hash": "3e85cb212582c3864f3123c04968064cb399bb038c04fe251bc7c026891a8089"
   }
  }
 },
 "nbformat": 4,
 "nbformat_minor": 2
}
